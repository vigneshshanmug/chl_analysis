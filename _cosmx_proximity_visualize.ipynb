{
 "cells": [
  {
   "cell_type": "code",
   "execution_count": 304,
   "id": "78c8ef3e-0431-4ec0-91d7-8e466561c96a",
   "metadata": {},
   "outputs": [],
   "source": [
    "import os\n",
    "import scanpy as sc\n",
    "import anndata as ad\n",
    "import squidpy as sq\n",
    "import matplotlib.pyplot as plt\n",
    "from ipywidgets import interact\n",
    "import seaborn as sns\n",
    "import SpatialDE\n",
    "import pandas as pd\n",
    "import numpy as np\n",
    "import scvi\n",
    "import warnings\n",
    "from matplotlib.colors import ListedColormap\n",
    "from matplotlib import cm\n",
    "\n",
    "\n",
    "from skimage.segmentation import find_boundaries"
   ]
  },
  {
   "cell_type": "code",
   "execution_count": null,
   "id": "8524519e-45ea-4d14-a74e-10403fe5c2a2",
   "metadata": {},
   "outputs": [],
   "source": []
  },
  {
   "cell_type": "code",
   "execution_count": 4,
   "id": "816b2747-e24a-4cf3-8cce-cbc231942d9f",
   "metadata": {},
   "outputs": [],
   "source": [
    "sc.settings.set_figure_params(dpi=240, facecolor='white', frameon=False)\n",
    "sc.settings.njobs = 32\n",
    "plt.rcParams['figure.dpi'] = 240\n",
    "sns.set_style(\"ticks\")"
   ]
  },
  {
   "cell_type": "code",
   "execution_count": null,
   "id": "df7eac1c-7454-42f9-ae5b-8b9b9988ed5b",
   "metadata": {},
   "outputs": [],
   "source": []
  },
  {
   "cell_type": "code",
   "execution_count": 5,
   "id": "44c5fd54-067f-458d-baf8-3420fa486eb0",
   "metadata": {},
   "outputs": [],
   "source": [
    "RESOURCES_FOLDERNAME = \"/home/dchafamo/final/data/\"\n",
    "RESULTS_FOLDERNAME = \"/home/dchafamo/final/results/\"\n",
    "AUXILLIARIES_FOLDERNAME = \"/home/dchafamo/final/tmp/\"\n",
    "FIGURES_FOLDERNAME = \"/home/dchafamo/final/results/figures/\""
   ]
  },
  {
   "cell_type": "code",
   "execution_count": null,
   "id": "e72c8fa2-83c8-40ed-8852-3045c8666191",
   "metadata": {},
   "outputs": [],
   "source": []
  },
  {
   "cell_type": "code",
   "execution_count": 6,
   "id": "852f62c4-7bd6-41dc-83f5-2641a487200a",
   "metadata": {},
   "outputs": [],
   "source": [
    "sc.settings.figdir = FIGURES_FOLDERNAME"
   ]
  },
  {
   "cell_type": "code",
   "execution_count": 7,
   "id": "42fdac50-c415-4289-8d4c-b533406127a2",
   "metadata": {},
   "outputs": [
    {
     "name": "stderr",
     "output_type": "stream",
     "text": [
      "/home/dchafamo/anaconda3/envs/tensor/lib/python3.9/site-packages/anndata/compat/__init__.py:232: FutureWarning: Moving element from .uns['neighbors']['distances'] to .obsp['distances'].\n",
      "\n",
      "This is where adjacency matrices should go now.\n",
      "  warn(\n"
     ]
    }
   ],
   "source": [
    "adata = sc.read_h5ad(os.path.join('/home/dchafamo/cHL_spatial/data/', 'cosmx_cHL.h5ad'))"
   ]
  },
  {
   "cell_type": "code",
   "execution_count": 8,
   "id": "af6b5444-4fe8-41ac-8c23-30db184d1400",
   "metadata": {},
   "outputs": [
    {
     "data": {
      "text/plain": [
       "CD4_T_cells          62175\n",
       "B_cells              47451\n",
       "Fibroblasts          38642\n",
       "Mono/macs            34008\n",
       "NK_cells             27064\n",
       "Plasma_cells         22900\n",
       "CD8_T_cells          21212\n",
       "BEC                  20111\n",
       "mDC                  12345\n",
       "Epithelium_KRT16+    12092\n",
       "Tumor                10759\n",
       "LEC                   8683\n",
       "Name: cell_types_level_3, dtype: int64"
      ]
     },
     "execution_count": 8,
     "metadata": {},
     "output_type": "execute_result"
    }
   ],
   "source": [
    "adata.obs.cell_types_level_3.value_counts()"
   ]
  },
  {
   "cell_type": "code",
   "execution_count": null,
   "id": "a815a48a-5de5-46c9-99e3-39a5217977e8",
   "metadata": {},
   "outputs": [],
   "source": []
  },
  {
   "cell_type": "markdown",
   "id": "9b243ab7-75b9-49e2-ace9-3a331d802107",
   "metadata": {},
   "source": [
    "***\n",
    "***\n",
    "    Vizualize raw morphology images\n",
    "***\n",
    "***"
   ]
  },
  {
   "cell_type": "code",
   "execution_count": null,
   "id": "bc2a85d9-f55c-4dfc-a415-e7fcba87ee18",
   "metadata": {},
   "outputs": [],
   "source": []
  },
  {
   "cell_type": "code",
   "execution_count": 9,
   "id": "2fa7f393-3bcc-4659-aec5-ca8f08b5fd2a",
   "metadata": {},
   "outputs": [],
   "source": [
    "adata.obs['cell_id_full'] = adata.obs.index\n",
    "adatas = {}\n",
    "for i, slide in enumerate(['Slide1', 'Slide2', 'Slide3']):\n",
    "    ad = sq.read.nanostring(\n",
    "        path=f\"data/{slide}\", \n",
    "        counts_file=f\"/home/dchafamo/cHL_spatial/data/{slide}/SMI-0026_{slide}_exprMat_file.csv\",\n",
    "        meta_file=f\"/home/dchafamo/cHL_spatial/data/{slide}/SMI-0026_{slide}_metadata_file.csv\", \n",
    "        fov_file=f\"/home/dchafamo/cHL_spatial/data/{slide}/SMI-0026_{slide}_fov_positions_file.csv\"\n",
    "    )\n",
    "\n",
    "    ## Nanostring images are flipped on y axis\n",
    "    ad.obsm['spatial'][:,1] = max(ad.obsm['spatial'][:,1]) + 20 - ad.obsm['spatial'][:,1]\n",
    "    \n",
    "    for fov in ad.uns[\"spatial\"].keys():\n",
    "        ad.uns[\"spatial\"][fov]['images']['hires'] = \\\n",
    "            ad.uns[\"spatial\"][fov]['images']['hires'].reshape(\n",
    "                list(ad.uns[\"spatial\"][fov]['images']['hires'].shape) + [1]\n",
    "            ) \n",
    "        ## add segmentation boundary\n",
    "        b = find_boundaries(ad.uns['spatial'][fov]['images']['segmentation'])\n",
    "        ad.uns['spatial'][fov]['images']['segmentation'][b] = -1\n",
    "      \n",
    "    ## Transfer metadata \n",
    "    ad.obs['cell_id_full'] = str(i+1) + '_' + ad.obs.index\n",
    "    new_obs = ad.obs.merge(adata.obs, how='left', on='cell_id_full')\n",
    "    new_obs.index = new_obs.cell_id_full\n",
    "    ad.obs = new_obs\n",
    "    ad.obs['fov'] = ad.obs.fov_x.astype(str)\n",
    "    ad.obs['cell_ID'] = ad.obs.cell_ID_x\n",
    "    ad.obs['cell_types_level_3'] = ad.obs['cell_types_level_3'].astype(str)\n",
    "    ad.obs.loc[ad.obs['cell_types_level_3'] == 'nan', 'cell_types_level_3'] = 'Unknown'\n",
    "    \n",
    "    sc.pp.filter_cells(ad, min_genes=10)\n",
    "    sc.pp.normalize_total(ad, target_sum=1e4)\n",
    "    sc.pp.log1p(ad)\n",
    "    \n",
    "    adatas[slide] = ad"
   ]
  },
  {
   "cell_type": "code",
   "execution_count": null,
   "id": "03ba0aa7-7221-4d05-a136-827e4bbc4157",
   "metadata": {},
   "outputs": [],
   "source": []
  },
  {
   "cell_type": "code",
   "execution_count": 305,
   "id": "8dae27de-a430-4022-9bb3-4b4567b0e9cc",
   "metadata": {},
   "outputs": [
    {
     "data": {
      "text/html": [
       "<svg  width=\"165\" height=\"55\"><rect x=\"0\" y=\"0\" width=\"55\" height=\"55\" style=\"fill:#d4782f;stroke-width:2;stroke:rgb(255,255,255)\"/><rect x=\"55\" y=\"0\" width=\"55\" height=\"55\" style=\"fill:#462965;stroke-width:2;stroke:rgb(255,255,255)\"/><rect x=\"110\" y=\"0\" width=\"55\" height=\"55\" style=\"fill:#c19cc5;stroke-width:2;stroke:rgb(255,255,255)\"/></svg>"
      ],
      "text/plain": [
       "[(0.8313725490196079, 0.47058823529411764, 0.1843137254901961),\n",
       " (0.27450980392156865, 0.1607843137254902, 0.396078431372549),\n",
       " (0.7568627450980392, 0.611764705882353, 0.7725490196078432)]"
      ]
     },
     "execution_count": 305,
     "metadata": {},
     "output_type": "execute_result"
    }
   ],
   "source": [
    "binary = cm.get_cmap('binary', 128)\n",
    "newcolors = np.vstack((binary(np.linspace(0, 0.5, 20)),binary(np.linspace(0.5, 1, 20))))\n",
    "newcmp = ListedColormap(newcolors, name='binmap')\n",
    "colors = ['#D4782F00','#462965FF','#C19CC5FF']\n",
    "sns.color_palette(colors)"
   ]
  },
  {
   "cell_type": "code",
   "execution_count": null,
   "id": "908d86c1-71cf-4f18-959e-0e035d2c26d8",
   "metadata": {},
   "outputs": [],
   "source": []
  },
  {
   "cell_type": "code",
   "execution_count": 306,
   "id": "6e3b1da0-2c85-409f-a9b2-b462ecefaa11",
   "metadata": {},
   "outputs": [],
   "source": [
    "def proximity_spatial(adatas, slide, gene, cell_type, fovs, threshold=0):\n",
    "    adatas[slide].obs[gene] = f'{gene}-'\n",
    "    adatas[slide].obs.loc[np.array(adatas[slide][:,gene].X.todense()).squeeze() > threshold, gene] = f'{gene}+'\n",
    "    ad = adatas[slide][(adatas[slide].obs.fov.isin(fovs)) & \n",
    "                       (adatas[slide].obs.cell_types_level_3.isin([cell_type, 'Tumor'])),:].copy()\n",
    "    ad.obs[f'celltype_{gene}'] = ad.obs[gene].astype(str) + ' ' + ad.obs['cell_types_level_3'].astype(str)\n",
    "    ad.obs.loc[ad.obs.cell_types_level_3 == 'Tumor', f'celltype_{gene}'] = 'HRS'\n",
    "    \n",
    "    with warnings.catch_warnings() and plt.rc_context({'figure.figsize': (14, 8)}):\n",
    "        warnings.simplefilter(\"ignore\")\n",
    "        sq.pl.spatial_segment(\n",
    "            ad,\n",
    "            color=f\"celltype_{gene}\",\n",
    "            library_key=\"fov\",\n",
    "            library_id=fovs,\n",
    "            seg_cell_id=\"cell_ID\",\n",
    "            seg_outline=True,\n",
    "            img_cmap=newcmp,\n",
    "            title='',\n",
    "            palette=ListedColormap(colors),\n",
    "            save=f'./chl_proximity_plots/{gene}/{gene}_' + f'{cell_type.replace(\"/\",\"\")}_{slide}_fov{fovs[0]}'.lower()\n",
    "        )"
   ]
  },
  {
   "cell_type": "code",
   "execution_count": null,
   "id": "81f406d6-b499-4ea8-8f94-a08c0b193a10",
   "metadata": {},
   "outputs": [],
   "source": []
  },
  {
   "cell_type": "code",
   "execution_count": 307,
   "id": "16f27d49-bc4f-4030-93d6-86ff8c115f4f",
   "metadata": {},
   "outputs": [],
   "source": [
    "cell_type = 'Mono/macs'\n",
    "genes = ['CXCL10', 'CCL3', 'OSM', 'MMP12', 'IL1B', 'CCL8', 'CCL4', 'ICAM1', 'CXCL9']"
   ]
  },
  {
   "cell_type": "code",
   "execution_count": null,
   "id": "dad0954f-ab66-45b8-aa57-6ff87aafa979",
   "metadata": {},
   "outputs": [],
   "source": []
  },
  {
   "cell_type": "code",
   "execution_count": 308,
   "id": "0f82e0c1-b4c1-4b8b-9f14-7a6c5ca8e48b",
   "metadata": {},
   "outputs": [],
   "source": [
    "chl_slide_fovs = ('Slide'+adata.obs.slide.astype(int).astype(str) + '_' + adata.obs.fov.astype(str)).unique()"
   ]
  },
  {
   "cell_type": "code",
   "execution_count": null,
   "id": "5018e649-9817-471f-941d-5b04542eb858",
   "metadata": {},
   "outputs": [],
   "source": []
  },
  {
   "cell_type": "code",
   "execution_count": null,
   "id": "581019aa-1661-4e6b-8c58-5f56f7316b0c",
   "metadata": {},
   "outputs": [],
   "source": [
    "%%capture\n",
    "for gene in genes:\n",
    "    for slide in [\"Slide1\", \"Slide2\", \"Slide3\"]:\n",
    "        for fov in adatas[slide].obs.fov.unique():\n",
    "            if (slide + '_' + str(fov)) in chl_slide_fovs:\n",
    "                proximity_spatial(adatas, slide, gene, cell_type, [fov])"
   ]
  },
  {
   "cell_type": "code",
   "execution_count": null,
   "id": "7fa2a022-ef8f-4d68-bddc-5664c4fa9aaa",
   "metadata": {},
   "outputs": [],
   "source": []
  }
 ],
 "metadata": {
  "kernelspec": {
   "display_name": "tensor",
   "language": "python",
   "name": "tensor"
  },
  "language_info": {
   "codemirror_mode": {
    "name": "ipython",
    "version": 3
   },
   "file_extension": ".py",
   "mimetype": "text/x-python",
   "name": "python",
   "nbconvert_exporter": "python",
   "pygments_lexer": "ipython3",
   "version": "3.9.10"
  },
  "widgets": {
   "application/vnd.jupyter.widget-state+json": {
    "state": {},
    "version_major": 2,
    "version_minor": 0
   }
  }
 },
 "nbformat": 4,
 "nbformat_minor": 5
}

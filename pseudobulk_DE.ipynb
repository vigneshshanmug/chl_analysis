{
 "cells": [
  {
   "cell_type": "code",
   "execution_count": null,
   "id": "5b15af4b-8c28-42b2-9b4a-b38b7ebc4dcb",
   "metadata": {},
   "outputs": [],
   "source": [
    "library(Seurat)\n",
    "library(SeuratDisk)\n",
    "library(glue)\n",
    "library(dplyr)\n",
    "library(ggplot2)\n",
    "library(SummarizedExperiment)\n",
    "library(limma)\n",
    "library(muscat)\n",
    "library(purrr)"
   ]
  },
  {
   "cell_type": "code",
   "execution_count": null,
   "id": "660a0348-238b-402d-927d-21ac41bdc282",
   "metadata": {},
   "outputs": [],
   "source": []
  },
  {
   "cell_type": "code",
   "execution_count": 2,
   "id": "e0c6f672-6f60-4444-a532-9d241761c96d",
   "metadata": {},
   "outputs": [],
   "source": [
    "muscat_pbDS <- function(pb, sce, method) {\n",
    "    res <- pbDS(pb, method=method, verbose=TRUE) \n",
    "\n",
    "    significant <- lapply(res$table[[1]], function(u) arrange(filter(u, p_adj.loc <= 0.05), p_adj.loc)) \n",
    "    all.sig.de <- bind_rows(significant)[-c(10)]\n",
    "\n",
    "    n_de <- vapply(significant, nrow, numeric(1))\n",
    "    p_de <- format(n_de / nrow(sce) * 100, digits = 3)\n",
    "    print(data.frame(\"Num DE.genes\" = n_de, \"% DE.genes\" = p_de, check.names = FALSE))\n",
    "\n",
    "    return(bind_rows(res$table[[1]])[-c(10)])\n",
    "}"
   ]
  },
  {
   "cell_type": "code",
   "execution_count": null,
   "id": "1ca46746-5ca7-4326-8919-84a2d3eaa8f4",
   "metadata": {},
   "outputs": [],
   "source": []
  },
  {
   "cell_type": "code",
   "execution_count": 7,
   "id": "01209991-f026-4b31-a8a5-e75619b9e80b",
   "metadata": {},
   "outputs": [],
   "source": [
    "muscat.de.genes <- function(seurat_obj, cluster_col, group_col, sample_col, method) {\n",
    "    DefaultAssay(seurat_obj) <- \"cellbender_corrected\"\n",
    "    cluster_ids <- unique(seurat_obj@meta.data[,cluster_col])\n",
    "    \n",
    "    sce <- SummarizedExperiment(\n",
    "        assays=list(\n",
    "            counts=seurat_obj@assays$cellbender_corrected@counts, \n",
    "            logcounts=seurat_obj@assays$cellbender_corrected@data\n",
    "        ), \n",
    "        colData=seurat_obj@meta.data\n",
    "    )\n",
    "    sce <- as(sce, \"SingleCellExperiment\")\n",
    "    sce <- prepSCE(sce, kid = cluster_col, gid = group_col, sid = sample_col, drop = TRUE)\n",
    "    \n",
    "    pb <- aggregateData(sce, assay = \"counts\", fun = \"sum\", by = c(\"cluster_id\", \"sample_id\"))\n",
    "    \n",
    "    return(muscat_pbDS(pb, sce, method))\n",
    "}"
   ]
  },
  {
   "cell_type": "code",
   "execution_count": null,
   "id": "f7188cf3-8773-4fa6-8b5f-66c31857b2d7",
   "metadata": {},
   "outputs": [],
   "source": []
  },
  {
   "cell_type": "code",
   "execution_count": null,
   "id": "e093d7a7-21d6-4b0b-b095-fa65b964c1bf",
   "metadata": {},
   "outputs": [],
   "source": [
    "all <- LoadH5Seurat(\"/home/dchafamo/final/data/combined_dataset_final_v2.h5seurat\")"
   ]
  },
  {
   "cell_type": "code",
   "execution_count": 6,
   "id": "870885e0-b509-439b-8e7f-688304f760ec",
   "metadata": {},
   "outputs": [],
   "source": []
  },
  {
   "cell_type": "code",
   "execution_count": 5,
   "id": "fb6501b5-bdd8-4af9-9032-901f4d2f82fe",
   "metadata": {},
   "outputs": [],
   "source": [
    "all@meta.data$cell_types_level_4[all@meta.data$cell_types_level_4=='Monocytes'] <- 'MonoMacs'\n",
    "all@meta.data$cell_types_level_4[all@meta.data$cell_types_level_4=='Macrophages'] <- 'MonoMacs'\n",
    "\n",
    "all@meta.data$cell_types_level_4[all@meta.data$cell_types_level_4=='Follicular_helper_T_cells'] <- \n",
    "    'Helper_Regulatory_T_cells'\n",
    "all@meta.data$cell_types_level_4[all@meta.data$cell_types_level_4=='Regulatory_T_cells'] <- \n",
    "    'Helper_Regulatory_T_cells'"
   ]
  },
  {
   "cell_type": "code",
   "execution_count": null,
   "id": "9a1f4b2f-225f-45bf-8fb6-43e87949a75d",
   "metadata": {},
   "outputs": [],
   "source": []
  },
  {
   "cell_type": "code",
   "execution_count": 9,
   "id": "19f34782-2b49-49ea-a5f1-b01fb3d55364",
   "metadata": {},
   "outputs": [
    {
     "name": "stdout",
     "output_type": "stream",
     "text": [
      "  |======================================================================| 100%\n",
      "\n",
      "                          Num DE.genes % DE.genes\n",
      "B_GC                               403     1.3530\n",
      "B_GC_cycling                       828     2.7798\n",
      "B_memory                           601     2.0177\n",
      "B_naive                            199     0.6681\n",
      "BEC_arterial                        13     0.0436\n",
      "BEC_venous                          42     0.1410\n",
      "CD4_T_naive                        540     1.8129\n",
      "CD8_T_effector                     573     1.9237\n",
      "CD8_T_naive                        116     0.3894\n",
      "DC_cycling                         333     1.1180\n",
      "DC1                                132     0.4432\n",
      "DC2                                296     0.9938\n",
      "DN_cytotoxic_T_cells               101     0.3391\n",
      "FDC                                 70     0.2350\n",
      "FRC                               1081     3.6292\n",
      "Helper_Regulatory_T_cells         2358     7.9165\n",
      "ILC3                               102     0.3424\n",
      "LEC                                373     1.2523\n",
      "MAIT_cells                          21     0.0705\n",
      "migratory_DC                       137     0.4599\n",
      "MonoMacs                          1481     4.9721\n",
      "NK_cells                            73     0.2451\n",
      "pDC                                187     0.6278\n",
      "Pericyte                             8     0.0269\n",
      "Plasma_cells                       313     1.0508\n",
      "Plasmablasts                        59     0.1981\n",
      "T_cycling                          542     1.8196\n"
     ]
    }
   ],
   "source": [
    "muscat.deseq2 <- muscat.de.genes(\n",
    "    seurat_obj = all, \n",
    "    cluster_col = 'cell_types_level_4', \n",
    "    group_col = 'condition', \n",
    "    sample_col = 'donor', \n",
    "    method = 'DESeq2'\n",
    ")\n",
    "\n",
    "muscat.deseq2$logFC = muscat.deseq2$logFC * -1 # HL + on the right\n",
    "# write.csv(muscat.deseq2, 'results/muscat_deseq2_level4_merged_RLNvsHL.csv')"
   ]
  },
  {
   "cell_type": "code",
   "execution_count": 16,
   "id": "8ad05dbc-798e-49a9-91fb-1933b3b4d859",
   "metadata": {},
   "outputs": [],
   "source": [
    "ctype = \"FRC\""
   ]
  },
  {
   "cell_type": "code",
   "execution_count": null,
   "id": "bdf6b9c1-fcf1-4f15-be0d-d4c07228d9de",
   "metadata": {},
   "outputs": [],
   "source": [
    "figure.path <- \"figures/DE\"\n",
    "\n",
    "for (ctype in c(\"FDC\", \"FRC\", \"CD4_T_naive\", \"CD8_T_naive\", \"CD8_T_effector\", \"T_cycling\",\n",
    "                \"MonoMacs\", \"Helper_Regulatory_T_cells\")) {\n",
    "    muscat.deseq2.ctype <- muscat.deseq2 %>% \n",
    "        filter(cluster_id == ctype) %>% \n",
    "        select(gene, p_adj.loc, logFC)\n",
    "\n",
    "    rownames(muscat.deseq2.ctype) <- muscat.deseq2.ctype$gene\n",
    "    colnames(muscat.deseq2.ctype) <- c('gene', 'p_val_adj', 'avg_log2FC')\n",
    "\n",
    "    muscat.deseq2.ctype <- muscat.deseq2.ctype %>% select(p_val_adj, avg_log2FC)\n",
    "\n",
    "    options(repr.plot.width=8, repr.plot.height=8, repr.plot.res=200)\n",
    "    p <- SCpubr::do_VolcanoPlot(sample = all,\n",
    "                                de_genes = muscat.deseq2.ctype, pt.size=1,\n",
    "                                pval_cutoff = 1e-2,\n",
    "                                FC_cutoff = 1, n_genes = 20, order_tags_by='pvalue', \n",
    "                                plot.title=glue(\"DE Genes in {ctype}\"))\n",
    "\n",
    "    SCpubr::save_Plot(\n",
    "        plot = p, \n",
    "        figure_path = figure.path, \n",
    "        file_name = glue(\"{ctype}_level4_DE\"), \n",
    "        width = 8, \n",
    "        height = 8, \n",
    "        output_format=\"all\"\n",
    "    )\n",
    "}"
   ]
  },
  {
   "cell_type": "code",
   "execution_count": null,
   "id": "93111c9d-5542-42f3-aeab-d4fec23d8018",
   "metadata": {},
   "outputs": [],
   "source": []
  },
  {
   "cell_type": "code",
   "execution_count": 6,
   "id": "9cb475f5-3a9f-4baa-9c48-453ab8577fa8",
   "metadata": {},
   "outputs": [],
   "source": [
    "HL <- subset(all, condition=='HL')"
   ]
  },
  {
   "cell_type": "code",
   "execution_count": null,
   "id": "cc7ccde3-14b8-47cc-bb46-234194b56999",
   "metadata": {},
   "outputs": [],
   "source": []
  },
  {
   "cell_type": "code",
   "execution_count": 8,
   "id": "3fc45324-3880-4a7a-8673-258ec6399a9b",
   "metadata": {},
   "outputs": [
    {
     "name": "stdout",
     "output_type": "stream",
     "text": [
      "  |======================================================================| 100%\n",
      "\n",
      "             Num DE.genes % DE.genes\n",
      "B_cells                11    0.03693\n",
      "BEC                     8    0.02686\n",
      "CD4_T_cells             3    0.01007\n",
      "CD8_T_cells             0    0.00000\n",
      "FDC                     0    0.00000\n",
      "Fibroblasts             5    0.01679\n",
      "LEC                     0    0.00000\n",
      "Macrophages            30    0.10072\n",
      "mDC                     1    0.00336\n",
      "Monocytes               0    0.00000\n",
      "NK_cells                0    0.00000\n",
      "pDC                     3    0.01007\n",
      "Plasma_cells            0    0.00000\n",
      "T_other                 0    0.00000\n",
      "Tumor                 446    1.49735\n"
     ]
    }
   ],
   "source": [
    "muscat.deseq2.ebv <- muscat.de.genes(\n",
    "    seurat_obj = HL, \n",
    "    cluster_col = 'cell_types_level_3', \n",
    "    group_col = 'ebv_status', \n",
    "    sample_col = 'donor',\n",
    "    method = 'DESeq2'\n",
    ")\n",
    "\n",
    "write.csv(muscat.deseq2.ebv, 'results/muscat_deseq2_ebv_level3_RLNvsHL.csv') # EBV+ on right"
   ]
  },
  {
   "cell_type": "code",
   "execution_count": null,
   "id": "5c4c7930-84fd-47d5-a120-ca3ce6f321cf",
   "metadata": {},
   "outputs": [],
   "source": []
  },
  {
   "cell_type": "code",
   "execution_count": 22,
   "id": "a3b9b4ce-a50f-4675-aaea-2966dec72ebc",
   "metadata": {},
   "outputs": [
    {
     "name": "stdout",
     "output_type": "stream",
     "text": [
      "  |======================================================================| 100%\n",
      "\n",
      "                          Num DE.genes % DE.genes\n",
      "B_GC                                10    0.03357\n",
      "B_GC_cycling                        13    0.04364\n",
      "B_memory                             0    0.00000\n",
      "B_naive                              0    0.00000\n",
      "BEC_arterial                         5    0.01679\n",
      "BEC_venous                          32    0.10743\n",
      "CD4_T_naive                          1    0.00336\n",
      "CD8_T_effector                       0    0.00000\n",
      "CD8_T_naive                          0    0.00000\n",
      "DC_cycling                           0    0.00000\n",
      "DC1                                  1    0.00336\n",
      "DC2                                  7    0.02350\n",
      "DN_cytotoxic_T_cells                 0    0.00000\n",
      "FDC                                  0    0.00000\n",
      "FRC                                  6    0.02014\n",
      "FRC_cycling                          1    0.00336\n",
      "Helper_Regulatory_T_cells            2    0.00671\n",
      "ILC3                                 2    0.00671\n",
      "LEC                                  1    0.00336\n",
      "MAIT_cells                           1    0.00336\n",
      "migratory_DC                         2    0.00671\n",
      "MonoMacs                            31    0.10408\n",
      "NK_cells                             0    0.00000\n",
      "pDC                                  3    0.01007\n",
      "Pericyte                             0    0.00000\n",
      "Plasma_cells                         1    0.00336\n",
      "Plasmablasts                         4    0.01343\n",
      "T_cycling                            1    0.00336\n",
      "Tumor                              446    1.49735\n"
     ]
    }
   ],
   "source": [
    "muscat.deseq2.ebv <- muscat.de.genes(\n",
    "    seurat_obj = HL, \n",
    "    cluster_col = 'cell_types_level_4', \n",
    "    group_col = 'ebv_status', \n",
    "    sample_col = 'donor',\n",
    "    method = 'DESeq2'\n",
    ")\n",
    "\n",
    "write.csv(muscat.deseq2.ebv, 'results/muscat_deseq2_ebv_level4_merged_RLNvsHL.csv') # EBV+ on right"
   ]
  },
  {
   "cell_type": "code",
   "execution_count": null,
   "id": "b2094297-d7d1-4c03-99d7-bccb9b5a06c0",
   "metadata": {},
   "outputs": [],
   "source": []
  },
  {
   "cell_type": "code",
   "execution_count": 23,
   "id": "e253c496-e183-4b81-8518-8647b452bd52",
   "metadata": {},
   "outputs": [
    {
     "name": "stderr",
     "output_type": "stream",
     "text": [
      "Warning message:\n",
      "“\u001b[1m\u001b[22mRemoved 58 rows containing missing values (`geom_point()`).”\n",
      "Warning message:\n",
      "“\u001b[1m\u001b[22mRemoved 58 rows containing missing values (`geom_point()`).”\n",
      "Warning message:\n",
      "“\u001b[1m\u001b[22mRemoved 58 rows containing missing values (`geom_point()`).”\n",
      "Warning message:\n",
      "“\u001b[1m\u001b[22mRemoved 58 rows containing missing values (`geom_point()`).”\n",
      "Warning message:\n",
      "“\u001b[1m\u001b[22mRemoved 58 rows containing missing values (`geom_point()`).”\n",
      "Warning message:\n",
      "“\u001b[1m\u001b[22mRemoved 58 rows containing missing values (`geom_point()`).”\n",
      "Warning message:\n",
      "“\u001b[1m\u001b[22mRemoved 58 rows containing missing values (`geom_point()`).”\n",
      "Warning message:\n",
      "“\u001b[1m\u001b[22mRemoved 58 rows containing missing values (`geom_point()`).”\n",
      "Warning message:\n",
      "“\u001b[1m\u001b[22mRemoved 58 rows containing missing values (`geom_point()`).”\n",
      "Warning message:\n",
      "“\u001b[1m\u001b[22mRemoved 58 rows containing missing values (`geom_point()`).”\n",
      "Warning message:\n",
      "“\u001b[1m\u001b[22mRemoved 2077 rows containing missing values (`geom_point()`).”\n",
      "Warning message:\n",
      "“\u001b[1m\u001b[22mRemoved 2077 rows containing missing values (`geom_point()`).”\n",
      "Warning message:\n",
      "“\u001b[1m\u001b[22mRemoved 2077 rows containing missing values (`geom_point()`).”\n",
      "Warning message:\n",
      "“\u001b[1m\u001b[22mRemoved 2077 rows containing missing values (`geom_point()`).”\n",
      "Warning message:\n",
      "“\u001b[1m\u001b[22mRemoved 2077 rows containing missing values (`geom_point()`).”\n",
      "Warning message:\n",
      "“\u001b[1m\u001b[22mRemoved 2077 rows containing missing values (`geom_point()`).”\n",
      "Warning message:\n",
      "“\u001b[1m\u001b[22mRemoved 2077 rows containing missing values (`geom_point()`).”\n",
      "Warning message:\n",
      "“\u001b[1m\u001b[22mRemoved 2077 rows containing missing values (`geom_point()`).”\n",
      "Warning message:\n",
      "“\u001b[1m\u001b[22mRemoved 2077 rows containing missing values (`geom_point()`).”\n",
      "Warning message:\n",
      "“\u001b[1m\u001b[22mRemoved 2077 rows containing missing values (`geom_point()`).”\n"
     ]
    }
   ],
   "source": [
    "figure.path <- \"figures/DE_ebv\"\n",
    "\n",
    "for (ctype in c(\"Helper_Regulatory_T_cells\", \"MonoMacs\")) {\n",
    "    muscat.deseq2.ctype <- muscat.deseq2.ebv %>% \n",
    "        filter(cluster_id == ctype) %>% \n",
    "        select(gene, p_adj.loc, logFC)\n",
    "\n",
    "    rownames(muscat.deseq2.ctype) <- muscat.deseq2.ctype$gene\n",
    "    colnames(muscat.deseq2.ctype) <- c('gene', 'p_val_adj', 'avg_log2FC')\n",
    "\n",
    "    muscat.deseq2.ctype <- muscat.deseq2.ctype %>% select(p_val_adj, avg_log2FC)\n",
    "\n",
    "    options(repr.plot.width=8, repr.plot.height=8, repr.plot.res=200)\n",
    "    p <- SCpubr::do_VolcanoPlot(sample = all,\n",
    "                                de_genes = muscat.deseq2.ctype, pt.size=1,\n",
    "                                pval_cutoff = 1e-2,\n",
    "                                FC_cutoff = 1, n_genes = 20, order_tags_by='pvalue', \n",
    "                                plot.title=glue(\"DE Genes in {ctype}\"))\n",
    "\n",
    "    SCpubr::save_Plot(\n",
    "        plot = p, \n",
    "        figure_path = figure.path, \n",
    "        file_name = glue(\"{ctype}_level4_DE_ebv\"), \n",
    "        width = 8, \n",
    "        height = 8, \n",
    "        output_format=\"all\"\n",
    "    )\n",
    "}"
   ]
  },
  {
   "cell_type": "code",
   "execution_count": null,
   "id": "9c60c6ab-e83f-4a08-80cd-62a11d34ea48",
   "metadata": {},
   "outputs": [],
   "source": []
  },
  {
   "cell_type": "code",
   "execution_count": null,
   "id": "52bb1be7-921b-4266-ac20-de8b9486e7f6",
   "metadata": {},
   "outputs": [],
   "source": [
    "# Set necessary enrichR global options. This is copied from EnrichR code to avoid having to load the package.\n",
    "suppressMessages({\n",
    "  options(enrichR.base.address = \"https://maayanlab.cloud/Enrichr/\")\n",
    "  options(enrichR.live = TRUE)\n",
    "  options(modEnrichR.use = TRUE)\n",
    "  options(enrichR.sites.base.address = \"https://maayanlab.cloud/\")\n",
    "  options(enrichR.sites = c(\"Enrichr\", \"FlyEnrichr\", \"WormEnrichr\", \"YeastEnrichr\", \"FishEnrichr\"))\n",
    "\n",
    "  # Set the search to Human genes.\n",
    "  enrichR::setEnrichrSite(site = \"Enrichr\")\n",
    "\n",
    "  websiteLive <- TRUE\n",
    "  dbs <- enrichR::listEnrichrDbs()\n",
    "  # Get all the possible databases to query.\n",
    "  dbs <- sort(dbs$libraryName)\n",
    "})\n",
    "\n",
    "# Choose the dataset to query against.\n",
    "dbs_use <- c(\"GO_Biological_Process_2021\")"
   ]
  },
  {
   "cell_type": "code",
   "execution_count": null,
   "id": "6287643f-7339-4d91-bb21-2b59cd0b700d",
   "metadata": {},
   "outputs": [],
   "source": [
    "genes <- df_list$X16\n",
    "enriched_terms <- enrichR::enrichr(genes, dbs_use)\n",
    "\n",
    "options(repr.plot.width=14, repr.plot.height=14)\n",
    "p <- SCpubr::do_TermEnrichmentPlot(enriched_terms = enriched_terms)\n",
    "p"
   ]
  }
 ],
 "metadata": {
  "kernelspec": {
   "display_name": "R seurat",
   "language": "R",
   "name": "seurat"
  },
  "language_info": {
   "codemirror_mode": "r",
   "file_extension": ".r",
   "mimetype": "text/x-r-source",
   "name": "R",
   "pygments_lexer": "r",
   "version": "4.1.2"
  },
  "widgets": {
   "application/vnd.jupyter.widget-state+json": {
    "state": {},
    "version_major": 2,
    "version_minor": 0
   }
  }
 },
 "nbformat": 4,
 "nbformat_minor": 5
}
